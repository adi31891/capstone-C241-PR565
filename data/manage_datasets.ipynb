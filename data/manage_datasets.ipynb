{
 "cells": [
  {
   "cell_type": "markdown",
   "metadata": {},
   "source": [
    "# Manage Datasets"
   ]
  },
  {
   "cell_type": "markdown",
   "metadata": {},
   "source": [
    "talk with chatgpt about datasets\n",
    "\n",
    "https://chatgpt.com/share/cc11a869-8656-4ae4-9f40-d76917fe9211"
   ]
  },
  {
   "cell_type": "code",
   "execution_count": 1,
   "metadata": {},
   "outputs": [],
   "source": [
    "import pandas as pd"
   ]
  },
  {
   "cell_type": "markdown",
   "metadata": {},
   "source": [
    "## Gathering Data"
   ]
  },
  {
   "cell_type": "code",
   "execution_count": 3,
   "metadata": {},
   "outputs": [],
   "source": [
    "sentiment_chatgpt = pd.read_csv('E:\\MSIB_BANGKIT\\CAPSTONE_C241-PR565\\data\\datasets_csv\\chatgpt_sentiment.csv')\n",
    "emotion_classify = pd.read_csv('E:\\MSIB_BANGKIT\\CAPSTONE_C241-PR565\\data\\datasets_csv\\Emotion_classify_Data.csv')\n",
    "sentiment_mentalhealth = pd.read_csv('E:\\MSIB_BANGKIT\\CAPSTONE_C241-PR565\\data\\datasets_csv\\Mental_Health_Dataset_sentiment.csv')\n",
    "sentiment_tweets = pd.read_csv('E:\\MSIB_BANGKIT\\CAPSTONE_C241-PR565\\data\\datasets_csv\\sentiment-emotion-labelled_Dell_tweets.csv')\n",
    "text_emotions = pd.read_csv('E:\\MSIB_BANGKIT\\CAPSTONE_C241-PR565\\data\\datasets_csv\\emotion_text.csv')"
   ]
  },
  {
   "cell_type": "code",
   "execution_count": 12,
   "metadata": {},
   "outputs": [
    {
     "name": "stdout",
     "output_type": "stream",
     "text": [
      "Sentiment ChatGPT\n",
      "   Unnamed: 0                                             tweets   labels\n",
      "0           0  ChatGPT: Optimizing Language Models for Dialog...  neutral\n",
      "1           1  Try talking with ChatGPT, our new AI system wh...     good\n",
      "2           2  ChatGPT: Optimizing Language Models for Dialog...  neutral\n",
      "3           3  THRILLED to share that ChatGPT, our new model ...     good\n",
      "4           4  As of 2 minutes ago, @OpenAI released their ne...      bad\n",
      "\n",
      "Emotion Class\n",
      "                                             Comment Emotion\n",
      "0  i seriously hate one subject to death but now ...    fear\n",
      "1                 im so full of life i feel appalled   anger\n",
      "2  i sit here to write i start to dig out my feel...    fear\n",
      "3  ive been really angry with r and i feel like a...     joy\n",
      "4  i feel suspicious if there is no one outside l...    fear\n",
      "\n",
      "Sentiment Mental Health\n",
      "                                               posts predicted  intensity\n",
      "0  I know as parent of child with down syndrome t...  negative         -1\n",
      "1  but in my heart I know this is the future prom...   neutral          0\n",
      "2  I have mylefibrosis which turn to leukemia the...  negative         -1\n",
      "3  from one of my health group subject wayne dyer...   neutral          0\n",
      "4  gmos now link to leukemia http nsnbc I 2013 07...   neutral          0\n",
      "\n",
      "Sentiment from Tweets\n",
      "   Unnamed: 0                   Datetime             Tweet Id  \\\n",
      "0           0  2022-09-30 23:29:15+00:00  1575991191170342912   \n",
      "1           1  2022-09-30 21:46:35+00:00  1575965354425131008   \n",
      "2           2  2022-09-30 21:18:02+00:00  1575958171423752203   \n",
      "3           3  2022-09-30 20:05:24+00:00  1575939891485032450   \n",
      "4           4  2022-09-30 20:03:17+00:00  1575939359160750080   \n",
      "\n",
      "                                                Text        Username  \\\n",
      "0  @Logitech @apple @Google @Microsoft @Dell @Len...  ManjuSreedaran   \n",
      "1  @MK_habit_addict @official_stier @MortalKombat...      MiKeMcDnet   \n",
      "2  As @CRN celebrates its 40th anniversary, Bob F...        jfollett   \n",
      "3  @dell your customer service is horrible especi...       daveccarr   \n",
      "4  @zacokalo @Dell @DellCares @Dell give the man ...      heycamella   \n",
      "\n",
      "  sentiment  sentiment_score       emotion  emotion_score  \n",
      "0   neutral         0.853283  anticipation       0.587121  \n",
      "1   neutral         0.519470           joy       0.886913  \n",
      "2  positive         0.763791           joy       0.960347  \n",
      "3  negative         0.954023         anger       0.983203  \n",
      "4   neutral         0.529170         anger       0.776124  \n",
      "\n",
      "Text Emotions\n",
      "     tweet_id   sentiment       author  \\\n",
      "0  1956967341       empty   xoshayzers   \n",
      "1  1956967666     sadness    wannamama   \n",
      "2  1956967696     sadness    coolfunky   \n",
      "3  1956967789  enthusiasm  czareaquino   \n",
      "4  1956968416     neutral    xkilljoyx   \n",
      "\n",
      "                                             content  \n",
      "0  @tiffanylue i know  i was listenin to bad habi...  \n",
      "1  Layin n bed with a headache  ughhhh...waitin o...  \n",
      "2                Funeral ceremony...gloomy friday...  \n",
      "3               wants to hang out with friends SOON!  \n",
      "4  @dannycastillo We want to trade with someone w...  \n"
     ]
    }
   ],
   "source": [
    "# Load some first line of datasets\n",
    "\n",
    "print(\"Sentiment ChatGPT\")\n",
    "print(sentiment_chatgpt.head())\n",
    "print(\"\\nEmotion Class\")\n",
    "print(emotion_classify.head())\n",
    "print(\"\\nSentiment Mental Health\")\n",
    "print(sentiment_mentalhealth.head())\n",
    "print(\"\\nSentiment from Tweets\")\n",
    "print(sentiment_tweets.head())\n",
    "print(\"\\nText Emotions\")\n",
    "print(text_emotions.head())"
   ]
  },
  {
   "cell_type": "markdown",
   "metadata": {},
   "source": [
    "## Assessing Data\n",
    "We only need text column and its sentiment. So let drop them first to assess data easier"
   ]
  },
  {
   "cell_type": "code",
   "execution_count": 18,
   "metadata": {},
   "outputs": [
    {
     "ename": "KeyError",
     "evalue": "\"['intensity'] not found in axis\"",
     "output_type": "error",
     "traceback": [
      "\u001b[1;31m---------------------------------------------------------------------------\u001b[0m",
      "\u001b[1;31mKeyError\u001b[0m                                  Traceback (most recent call last)",
      "Cell \u001b[1;32mIn[18], line 7\u001b[0m\n\u001b[0;32m      4\u001b[0m sentiment_chatgpt \u001b[38;5;241m=\u001b[39m sentiment_chatgpt\u001b[38;5;241m.\u001b[39mdrop(columns \u001b[38;5;241m=\u001b[39m unnamed_col)\n\u001b[0;32m      6\u001b[0m \u001b[38;5;66;03m# Sentiment Mental Health\u001b[39;00m\n\u001b[1;32m----> 7\u001b[0m sentiment_mentalhealth \u001b[38;5;241m=\u001b[39m \u001b[43msentiment_mentalhealth\u001b[49m\u001b[38;5;241;43m.\u001b[39;49m\u001b[43mdrop\u001b[49m\u001b[43m(\u001b[49m\u001b[43mcolumns\u001b[49m\u001b[43m \u001b[49m\u001b[38;5;241;43m=\u001b[39;49m\u001b[43m \u001b[49m\u001b[43m[\u001b[49m\u001b[38;5;124;43m'\u001b[39;49m\u001b[38;5;124;43mintensity\u001b[39;49m\u001b[38;5;124;43m'\u001b[39;49m\u001b[43m]\u001b[49m\u001b[43m)\u001b[49m\n\u001b[0;32m      9\u001b[0m \u001b[38;5;66;03m# Sentiment from Tweets\u001b[39;00m\n\u001b[0;32m     10\u001b[0m unnamed_col \u001b[38;5;241m=\u001b[39m [col \u001b[38;5;28;01mfor\u001b[39;00m col \u001b[38;5;129;01min\u001b[39;00m sentiment_tweets\u001b[38;5;241m.\u001b[39mcolumns \u001b[38;5;28;01mif\u001b[39;00m col\u001b[38;5;241m.\u001b[39mstartswith(\u001b[38;5;124m'\u001b[39m\u001b[38;5;124mUnnamed:\u001b[39m\u001b[38;5;124m'\u001b[39m)]\n",
      "File \u001b[1;32m~\\AppData\\Local\\Packages\\PythonSoftwareFoundation.Python.3.10_qbz5n2kfra8p0\\LocalCache\\local-packages\\Python310\\site-packages\\pandas\\core\\frame.py:5344\u001b[0m, in \u001b[0;36mDataFrame.drop\u001b[1;34m(self, labels, axis, index, columns, level, inplace, errors)\u001b[0m\n\u001b[0;32m   5196\u001b[0m \u001b[38;5;28;01mdef\u001b[39;00m \u001b[38;5;21mdrop\u001b[39m(\n\u001b[0;32m   5197\u001b[0m     \u001b[38;5;28mself\u001b[39m,\n\u001b[0;32m   5198\u001b[0m     labels: IndexLabel \u001b[38;5;241m|\u001b[39m \u001b[38;5;28;01mNone\u001b[39;00m \u001b[38;5;241m=\u001b[39m \u001b[38;5;28;01mNone\u001b[39;00m,\n\u001b[1;32m   (...)\u001b[0m\n\u001b[0;32m   5205\u001b[0m     errors: IgnoreRaise \u001b[38;5;241m=\u001b[39m \u001b[38;5;124m\"\u001b[39m\u001b[38;5;124mraise\u001b[39m\u001b[38;5;124m\"\u001b[39m,\n\u001b[0;32m   5206\u001b[0m ) \u001b[38;5;241m-\u001b[39m\u001b[38;5;241m>\u001b[39m DataFrame \u001b[38;5;241m|\u001b[39m \u001b[38;5;28;01mNone\u001b[39;00m:\n\u001b[0;32m   5207\u001b[0m \u001b[38;5;250m    \u001b[39m\u001b[38;5;124;03m\"\"\"\u001b[39;00m\n\u001b[0;32m   5208\u001b[0m \u001b[38;5;124;03m    Drop specified labels from rows or columns.\u001b[39;00m\n\u001b[0;32m   5209\u001b[0m \n\u001b[1;32m   (...)\u001b[0m\n\u001b[0;32m   5342\u001b[0m \u001b[38;5;124;03m            weight  1.0     0.8\u001b[39;00m\n\u001b[0;32m   5343\u001b[0m \u001b[38;5;124;03m    \"\"\"\u001b[39;00m\n\u001b[1;32m-> 5344\u001b[0m     \u001b[38;5;28;01mreturn\u001b[39;00m \u001b[38;5;28;43msuper\u001b[39;49m\u001b[43m(\u001b[49m\u001b[43m)\u001b[49m\u001b[38;5;241;43m.\u001b[39;49m\u001b[43mdrop\u001b[49m\u001b[43m(\u001b[49m\n\u001b[0;32m   5345\u001b[0m \u001b[43m        \u001b[49m\u001b[43mlabels\u001b[49m\u001b[38;5;241;43m=\u001b[39;49m\u001b[43mlabels\u001b[49m\u001b[43m,\u001b[49m\n\u001b[0;32m   5346\u001b[0m \u001b[43m        \u001b[49m\u001b[43maxis\u001b[49m\u001b[38;5;241;43m=\u001b[39;49m\u001b[43maxis\u001b[49m\u001b[43m,\u001b[49m\n\u001b[0;32m   5347\u001b[0m \u001b[43m        \u001b[49m\u001b[43mindex\u001b[49m\u001b[38;5;241;43m=\u001b[39;49m\u001b[43mindex\u001b[49m\u001b[43m,\u001b[49m\n\u001b[0;32m   5348\u001b[0m \u001b[43m        \u001b[49m\u001b[43mcolumns\u001b[49m\u001b[38;5;241;43m=\u001b[39;49m\u001b[43mcolumns\u001b[49m\u001b[43m,\u001b[49m\n\u001b[0;32m   5349\u001b[0m \u001b[43m        \u001b[49m\u001b[43mlevel\u001b[49m\u001b[38;5;241;43m=\u001b[39;49m\u001b[43mlevel\u001b[49m\u001b[43m,\u001b[49m\n\u001b[0;32m   5350\u001b[0m \u001b[43m        \u001b[49m\u001b[43minplace\u001b[49m\u001b[38;5;241;43m=\u001b[39;49m\u001b[43minplace\u001b[49m\u001b[43m,\u001b[49m\n\u001b[0;32m   5351\u001b[0m \u001b[43m        \u001b[49m\u001b[43merrors\u001b[49m\u001b[38;5;241;43m=\u001b[39;49m\u001b[43merrors\u001b[49m\u001b[43m,\u001b[49m\n\u001b[0;32m   5352\u001b[0m \u001b[43m    \u001b[49m\u001b[43m)\u001b[49m\n",
      "File \u001b[1;32m~\\AppData\\Local\\Packages\\PythonSoftwareFoundation.Python.3.10_qbz5n2kfra8p0\\LocalCache\\local-packages\\Python310\\site-packages\\pandas\\core\\generic.py:4711\u001b[0m, in \u001b[0;36mNDFrame.drop\u001b[1;34m(self, labels, axis, index, columns, level, inplace, errors)\u001b[0m\n\u001b[0;32m   4709\u001b[0m \u001b[38;5;28;01mfor\u001b[39;00m axis, labels \u001b[38;5;129;01min\u001b[39;00m axes\u001b[38;5;241m.\u001b[39mitems():\n\u001b[0;32m   4710\u001b[0m     \u001b[38;5;28;01mif\u001b[39;00m labels \u001b[38;5;129;01mis\u001b[39;00m \u001b[38;5;129;01mnot\u001b[39;00m \u001b[38;5;28;01mNone\u001b[39;00m:\n\u001b[1;32m-> 4711\u001b[0m         obj \u001b[38;5;241m=\u001b[39m \u001b[43mobj\u001b[49m\u001b[38;5;241;43m.\u001b[39;49m\u001b[43m_drop_axis\u001b[49m\u001b[43m(\u001b[49m\u001b[43mlabels\u001b[49m\u001b[43m,\u001b[49m\u001b[43m \u001b[49m\u001b[43maxis\u001b[49m\u001b[43m,\u001b[49m\u001b[43m \u001b[49m\u001b[43mlevel\u001b[49m\u001b[38;5;241;43m=\u001b[39;49m\u001b[43mlevel\u001b[49m\u001b[43m,\u001b[49m\u001b[43m \u001b[49m\u001b[43merrors\u001b[49m\u001b[38;5;241;43m=\u001b[39;49m\u001b[43merrors\u001b[49m\u001b[43m)\u001b[49m\n\u001b[0;32m   4713\u001b[0m \u001b[38;5;28;01mif\u001b[39;00m inplace:\n\u001b[0;32m   4714\u001b[0m     \u001b[38;5;28mself\u001b[39m\u001b[38;5;241m.\u001b[39m_update_inplace(obj)\n",
      "File \u001b[1;32m~\\AppData\\Local\\Packages\\PythonSoftwareFoundation.Python.3.10_qbz5n2kfra8p0\\LocalCache\\local-packages\\Python310\\site-packages\\pandas\\core\\generic.py:4753\u001b[0m, in \u001b[0;36mNDFrame._drop_axis\u001b[1;34m(self, labels, axis, level, errors, only_slice)\u001b[0m\n\u001b[0;32m   4751\u001b[0m         new_axis \u001b[38;5;241m=\u001b[39m axis\u001b[38;5;241m.\u001b[39mdrop(labels, level\u001b[38;5;241m=\u001b[39mlevel, errors\u001b[38;5;241m=\u001b[39merrors)\n\u001b[0;32m   4752\u001b[0m     \u001b[38;5;28;01melse\u001b[39;00m:\n\u001b[1;32m-> 4753\u001b[0m         new_axis \u001b[38;5;241m=\u001b[39m \u001b[43maxis\u001b[49m\u001b[38;5;241;43m.\u001b[39;49m\u001b[43mdrop\u001b[49m\u001b[43m(\u001b[49m\u001b[43mlabels\u001b[49m\u001b[43m,\u001b[49m\u001b[43m \u001b[49m\u001b[43merrors\u001b[49m\u001b[38;5;241;43m=\u001b[39;49m\u001b[43merrors\u001b[49m\u001b[43m)\u001b[49m\n\u001b[0;32m   4754\u001b[0m     indexer \u001b[38;5;241m=\u001b[39m axis\u001b[38;5;241m.\u001b[39mget_indexer(new_axis)\n\u001b[0;32m   4756\u001b[0m \u001b[38;5;66;03m# Case for non-unique axis\u001b[39;00m\n\u001b[0;32m   4757\u001b[0m \u001b[38;5;28;01melse\u001b[39;00m:\n",
      "File \u001b[1;32m~\\AppData\\Local\\Packages\\PythonSoftwareFoundation.Python.3.10_qbz5n2kfra8p0\\LocalCache\\local-packages\\Python310\\site-packages\\pandas\\core\\indexes\\base.py:6992\u001b[0m, in \u001b[0;36mIndex.drop\u001b[1;34m(self, labels, errors)\u001b[0m\n\u001b[0;32m   6990\u001b[0m \u001b[38;5;28;01mif\u001b[39;00m mask\u001b[38;5;241m.\u001b[39many():\n\u001b[0;32m   6991\u001b[0m     \u001b[38;5;28;01mif\u001b[39;00m errors \u001b[38;5;241m!=\u001b[39m \u001b[38;5;124m\"\u001b[39m\u001b[38;5;124mignore\u001b[39m\u001b[38;5;124m\"\u001b[39m:\n\u001b[1;32m-> 6992\u001b[0m         \u001b[38;5;28;01mraise\u001b[39;00m \u001b[38;5;167;01mKeyError\u001b[39;00m(\u001b[38;5;124mf\u001b[39m\u001b[38;5;124m\"\u001b[39m\u001b[38;5;132;01m{\u001b[39;00mlabels[mask]\u001b[38;5;241m.\u001b[39mtolist()\u001b[38;5;132;01m}\u001b[39;00m\u001b[38;5;124m not found in axis\u001b[39m\u001b[38;5;124m\"\u001b[39m)\n\u001b[0;32m   6993\u001b[0m     indexer \u001b[38;5;241m=\u001b[39m indexer[\u001b[38;5;241m~\u001b[39mmask]\n\u001b[0;32m   6994\u001b[0m \u001b[38;5;28;01mreturn\u001b[39;00m \u001b[38;5;28mself\u001b[39m\u001b[38;5;241m.\u001b[39mdelete(indexer)\n",
      "\u001b[1;31mKeyError\u001b[0m: \"['intensity'] not found in axis\""
     ]
    }
   ],
   "source": [
    "# Sentiment ChatGPT\n",
    "#calling unnamed column to drop\n",
    "unnamed_col = [col for col in sentiment_chatgpt.columns if col.startswith('Unnamed:')]\n",
    "sentiment_chatgpt = sentiment_chatgpt.drop(columns = unnamed_col)\n",
    "\n",
    "# Sentiment Mental Health\n",
    "sentiment_mentalhealth = sentiment_mentalhealth.drop(columns = ['intensity'])\n",
    "\n",
    "# Sentiment from Tweets\n",
    "unnamed_col = [col for col in sentiment_tweets.columns if col.startswith('Unnamed:')]\n",
    "sentiment_tweets = sentiment_tweets.drop(columns = unnamed_col)\n",
    "sentiment_tweets = sentiment_tweets.drop(columns = ['Datetime', 'Tweet Id', 'Username',\n",
    "                                                    'sentiment_score', 'emotion', 'emotion_score'])\n",
    "\n",
    "#Text emotions\n",
    "text_emotions = text_emotions.drop(columns = ['tweet_id', 'author'])"
   ]
  },
  {
   "cell_type": "code",
   "execution_count": null,
   "metadata": {},
   "outputs": [],
   "source": [
    "# Load some first line of datasets after dropping\n",
    "\n",
    "print(\"Sentiment ChatGPT\")\n",
    "print(sentiment_chatgpt.head())\n",
    "print(\"\\nEmotion Class\")\n",
    "print(emotion_classify.head())\n",
    "print(\"\\nSentiment Mental Health\")\n",
    "print(sentiment_mentalhealth.head())\n",
    "print(\"\\nSentiment from Tweets\")\n",
    "print(sentiment_tweets.head())\n",
    "print(\"\\nText Emotions\")\n",
    "print(text_emotions.head())"
   ]
  }
 ],
 "metadata": {
  "kernelspec": {
   "display_name": "Python 3",
   "language": "python",
   "name": "python3"
  },
  "language_info": {
   "codemirror_mode": {
    "name": "ipython",
    "version": 3
   },
   "file_extension": ".py",
   "mimetype": "text/x-python",
   "name": "python",
   "nbconvert_exporter": "python",
   "pygments_lexer": "ipython3",
   "version": "3.10.11"
  }
 },
 "nbformat": 4,
 "nbformat_minor": 2
}
