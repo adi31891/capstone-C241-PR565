{
 "cells": [
  {
   "cell_type": "markdown",
   "metadata": {},
   "source": [
    "# Manage Datasets"
   ]
  },
  {
   "cell_type": "code",
   "execution_count": 1,
   "metadata": {},
   "outputs": [],
   "source": [
    "import pandas as pd"
   ]
  },
  {
   "cell_type": "markdown",
   "metadata": {},
   "source": [
    "## Gathering Data"
   ]
  },
  {
   "cell_type": "code",
   "execution_count": 2,
   "metadata": {},
   "outputs": [],
   "source": [
    "sentiment_chatgpt = pd.read_csv('E:\\MSIB_BANGKIT\\CAPSTONE_C241-PR565\\data\\datasets_csv\\chatgpt_sentiment.csv')\n",
    "emotion_classify = pd.read_csv('E:\\MSIB_BANGKIT\\CAPSTONE_C241-PR565\\data\\datasets_csv\\Emotion_classify_Data.csv')\n",
    "sentiment_mentalhealth = pd.read_csv('E:\\MSIB_BANGKIT\\CAPSTONE_C241-PR565\\data\\datasets_csv\\Mental_Health_Dataset_sentiment.csv')\n",
    "sentiment_tweets = pd.read_csv('E:\\MSIB_BANGKIT\\CAPSTONE_C241-PR565\\data\\datasets_csv\\sentiment-emotion-labelled_Dell_tweets.csv')\n",
    "text_emotions = pd.read_csv('E:\\MSIB_BANGKIT\\CAPSTONE_C241-PR565\\data\\datasets_csv\\emotion_text.csv')"
   ]
  },
  {
   "cell_type": "code",
   "execution_count": 4,
   "metadata": {},
   "outputs": [
    {
     "name": "stdout",
     "output_type": "stream",
     "text": [
      "Sentiment ChatGPT\n",
      "   Unnamed: 0                                             tweets   labels\n",
      "0           0  ChatGPT: Optimizing Language Models for Dialog...  neutral\n",
      "1           1  Try talking with ChatGPT, our new AI system wh...     good\n",
      "2           2  ChatGPT: Optimizing Language Models for Dialog...  neutral\n",
      "3           3  THRILLED to share that ChatGPT, our new model ...     good\n",
      "4           4  As of 2 minutes ago, @OpenAI released their ne...      bad\n",
      "\n",
      "Emotion Class\n",
      "                                             Comment Emotion\n",
      "0  i seriously hate one subject to death but now ...    fear\n",
      "1                 im so full of life i feel appalled   anger\n",
      "2  i sit here to write i start to dig out my feel...    fear\n",
      "3  ive been really angry with r and i feel like a...     joy\n",
      "4  i feel suspicious if there is no one outside l...    fear\n",
      "\n",
      "Sentiment Mental Health\n",
      "                                               posts predicted  intensity\n",
      "0  I know as parent of child with down syndrome t...  negative         -1\n",
      "1  but in my heart I know this is the future prom...   neutral          0\n",
      "2  I have mylefibrosis which turn to leukemia the...  negative         -1\n",
      "3  from one of my health group subject wayne dyer...   neutral          0\n",
      "4  gmos now link to leukemia http nsnbc I 2013 07...   neutral          0\n",
      "\n",
      "Sentiment from Tweets\n",
      "   Unnamed: 0                   Datetime             Tweet Id  \\\n",
      "0           0  2022-09-30 23:29:15+00:00  1575991191170342912   \n",
      "1           1  2022-09-30 21:46:35+00:00  1575965354425131008   \n",
      "2           2  2022-09-30 21:18:02+00:00  1575958171423752203   \n",
      "3           3  2022-09-30 20:05:24+00:00  1575939891485032450   \n",
      "4           4  2022-09-30 20:03:17+00:00  1575939359160750080   \n",
      "\n",
      "                                                Text        Username  \\\n",
      "0  @Logitech @apple @Google @Microsoft @Dell @Len...  ManjuSreedaran   \n",
      "1  @MK_habit_addict @official_stier @MortalKombat...      MiKeMcDnet   \n",
      "2  As @CRN celebrates its 40th anniversary, Bob F...        jfollett   \n",
      "3  @dell your customer service is horrible especi...       daveccarr   \n",
      "4  @zacokalo @Dell @DellCares @Dell give the man ...      heycamella   \n",
      "\n",
      "  sentiment  sentiment_score       emotion  emotion_score  \n",
      "0   neutral         0.853283  anticipation       0.587121  \n",
      "1   neutral         0.519470           joy       0.886913  \n",
      "2  positive         0.763791           joy       0.960347  \n",
      "3  negative         0.954023         anger       0.983203  \n",
      "4   neutral         0.529170         anger       0.776124  \n",
      "\n",
      "Text Emotions\n",
      "     tweet_id   sentiment       author  \\\n",
      "0  1956967341       empty   xoshayzers   \n",
      "1  1956967666     sadness    wannamama   \n",
      "2  1956967696     sadness    coolfunky   \n",
      "3  1956967789  enthusiasm  czareaquino   \n",
      "4  1956968416     neutral    xkilljoyx   \n",
      "\n",
      "                                             content  \n",
      "0  @tiffanylue i know  i was listenin to bad habi...  \n",
      "1  Layin n bed with a headache  ughhhh...waitin o...  \n",
      "2                Funeral ceremony...gloomy friday...  \n",
      "3               wants to hang out with friends SOON!  \n",
      "4  @dannycastillo We want to trade with someone w...  \n"
     ]
    }
   ],
   "source": [
    "# Load some first line of datasets\n",
    "\n",
    "print(\"Sentiment ChatGPT\")\n",
    "print(sentiment_chatgpt.head())\n",
    "print(\"\\nEmotion Class\")\n",
    "print(emotion_classify.head())\n",
    "print(\"\\nSentiment Mental Health\")\n",
    "print(sentiment_mentalhealth.head())\n",
    "print(\"\\nSentiment from Tweets\")\n",
    "print(sentiment_tweets.head())\n",
    "print(\"\\nText Emotions\")\n",
    "print(text_emotions.head())"
   ]
  },
  {
   "cell_type": "markdown",
   "metadata": {},
   "source": [
    "## Assessing Data\n",
    "We only need text column and its sentiment. So let drop them first to assess data easier"
   ]
  },
  {
   "cell_type": "code",
   "execution_count": 5,
   "metadata": {},
   "outputs": [],
   "source": [
    "# Sentiment ChatGPT\n",
    "#calling unnamed column to drop\n",
    "unnamed_col = [col for col in sentiment_chatgpt.columns if col.startswith('Unnamed:')]\n",
    "sentiment_chatgpt = sentiment_chatgpt.drop(columns = unnamed_col)\n",
    "\n",
    "# Emotion Class only has 2 columns required\n",
    "# Sentiment Mental Health\n",
    "sentiment_mentalhealth = sentiment_mentalhealth.drop(columns = ['intensity'])\n",
    "\n",
    "# Sentiment from Tweets\n",
    "unnamed_col = [col for col in sentiment_tweets.columns if col.startswith('Unnamed:')]\n",
    "sentiment_tweets = sentiment_tweets.drop(columns = unnamed_col)\n",
    "sentiment_tweets = sentiment_tweets.drop(columns = ['Datetime', 'Tweet Id', 'Username',\n",
    "                                                    'sentiment_score', 'emotion', 'emotion_score'])\n",
    "\n",
    "#Text emotions\n",
    "text_emotions = text_emotions.drop(columns = ['tweet_id', 'author'])"
   ]
  },
  {
   "cell_type": "code",
   "execution_count": 6,
   "metadata": {},
   "outputs": [
    {
     "name": "stdout",
     "output_type": "stream",
     "text": [
      "Sentiment ChatGPT\n",
      "                                              tweets   labels\n",
      "0  ChatGPT: Optimizing Language Models for Dialog...  neutral\n",
      "1  Try talking with ChatGPT, our new AI system wh...     good\n",
      "2  ChatGPT: Optimizing Language Models for Dialog...  neutral\n",
      "3  THRILLED to share that ChatGPT, our new model ...     good\n",
      "4  As of 2 minutes ago, @OpenAI released their ne...      bad\n",
      "\n",
      "Emotion Class\n",
      "                                             Comment Emotion\n",
      "0  i seriously hate one subject to death but now ...    fear\n",
      "1                 im so full of life i feel appalled   anger\n",
      "2  i sit here to write i start to dig out my feel...    fear\n",
      "3  ive been really angry with r and i feel like a...     joy\n",
      "4  i feel suspicious if there is no one outside l...    fear\n",
      "\n",
      "Sentiment Mental Health\n",
      "                                               posts predicted\n",
      "0  I know as parent of child with down syndrome t...  negative\n",
      "1  but in my heart I know this is the future prom...   neutral\n",
      "2  I have mylefibrosis which turn to leukemia the...  negative\n",
      "3  from one of my health group subject wayne dyer...   neutral\n",
      "4  gmos now link to leukemia http nsnbc I 2013 07...   neutral\n",
      "\n",
      "Sentiment from Tweets\n",
      "                                                Text sentiment\n",
      "0  @Logitech @apple @Google @Microsoft @Dell @Len...   neutral\n",
      "1  @MK_habit_addict @official_stier @MortalKombat...   neutral\n",
      "2  As @CRN celebrates its 40th anniversary, Bob F...  positive\n",
      "3  @dell your customer service is horrible especi...  negative\n",
      "4  @zacokalo @Dell @DellCares @Dell give the man ...   neutral\n",
      "\n",
      "Text Emotions\n",
      "    sentiment                                            content\n",
      "0       empty  @tiffanylue i know  i was listenin to bad habi...\n",
      "1     sadness  Layin n bed with a headache  ughhhh...waitin o...\n",
      "2     sadness                Funeral ceremony...gloomy friday...\n",
      "3  enthusiasm               wants to hang out with friends SOON!\n",
      "4     neutral  @dannycastillo We want to trade with someone w...\n"
     ]
    }
   ],
   "source": [
    "# Load some first line of datasets after dropping\n",
    "\n",
    "print(\"Sentiment ChatGPT\")\n",
    "print(sentiment_chatgpt.head())\n",
    "print(\"\\nEmotion Class\")\n",
    "print(emotion_classify.head())\n",
    "print(\"\\nSentiment Mental Health\")\n",
    "print(sentiment_mentalhealth.head())\n",
    "print(\"\\nSentiment from Tweets\")\n",
    "print(sentiment_tweets.head())\n",
    "print(\"\\nText Emotions\")\n",
    "print(text_emotions.head())"
   ]
  },
  {
   "cell_type": "code",
   "execution_count": 8,
   "metadata": {},
   "outputs": [
    {
     "name": "stdout",
     "output_type": "stream",
     "text": [
      "<class 'pandas.core.frame.DataFrame'>\n",
      "RangeIndex: 219294 entries, 0 to 219293\n",
      "Data columns (total 2 columns):\n",
      " #   Column  Non-Null Count   Dtype \n",
      "---  ------  --------------   ----- \n",
      " 0   tweets  219294 non-null  object\n",
      " 1   labels  219294 non-null  object\n",
      "dtypes: object(2)\n",
      "memory usage: 3.3+ MB\n",
      "<class 'pandas.core.frame.DataFrame'>\n",
      "RangeIndex: 5937 entries, 0 to 5936\n",
      "Data columns (total 2 columns):\n",
      " #   Column   Non-Null Count  Dtype \n",
      "---  ------   --------------  ----- \n",
      " 0   Comment  5937 non-null   object\n",
      " 1   Emotion  5937 non-null   object\n",
      "dtypes: object(2)\n",
      "memory usage: 92.9+ KB\n",
      "<class 'pandas.core.frame.DataFrame'>\n",
      "RangeIndex: 10392 entries, 0 to 10391\n",
      "Data columns (total 2 columns):\n",
      " #   Column     Non-Null Count  Dtype \n",
      "---  ------     --------------  ----- \n",
      " 0   posts      10391 non-null  object\n",
      " 1   predicted  10392 non-null  object\n",
      "dtypes: object(2)\n",
      "memory usage: 162.5+ KB\n",
      "<class 'pandas.core.frame.DataFrame'>\n",
      "RangeIndex: 24970 entries, 0 to 24969\n",
      "Data columns (total 2 columns):\n",
      " #   Column     Non-Null Count  Dtype \n",
      "---  ------     --------------  ----- \n",
      " 0   Text       24970 non-null  object\n",
      " 1   sentiment  24970 non-null  object\n",
      "dtypes: object(2)\n",
      "memory usage: 390.3+ KB\n",
      "<class 'pandas.core.frame.DataFrame'>\n",
      "RangeIndex: 40000 entries, 0 to 39999\n",
      "Data columns (total 2 columns):\n",
      " #   Column     Non-Null Count  Dtype \n",
      "---  ------     --------------  ----- \n",
      " 0   sentiment  40000 non-null  object\n",
      " 1   content    40000 non-null  object\n",
      "dtypes: object(2)\n",
      "memory usage: 625.1+ KB\n"
     ]
    }
   ],
   "source": [
    "# Check any missing value\n",
    "sentiment_chatgpt.info()\n",
    "emotion_classify.info()\n",
    "sentiment_mentalhealth.info()\n",
    "sentiment_tweets.info()\n",
    "text_emotions.info()"
   ]
  },
  {
   "cell_type": "markdown",
   "metadata": {},
   "source": [
    "We only need \"input\" wich is a text and \"sentiment\". Then we make them in one datasets."
   ]
  },
  {
   "cell_type": "code",
   "execution_count": 13,
   "metadata": {},
   "outputs": [],
   "source": [
    "#Rename column to \"text\" and \"sentiment\"\n",
    "sentiment_chatgpt = sentiment_chatgpt.rename(columns = {'tweets':'text', 'labels':'sentiment'})\n",
    "emotion_classify = emotion_classify.rename(columns = {'Comment':'text', 'Emotion':'sentiment'})\n",
    "sentiment_mentalhealth = sentiment_mentalhealth.rename(columns = {'posts':'text', 'predicted':'sentiment'})\n",
    "sentiment_tweets = sentiment_tweets.rename(columns = {'Text':'text'})\n",
    "text_emotions = text_emotions.rename(columns = {'content':'text'})\n",
    "\n",
    "#For text_emotions, its columns should be switched\n",
    "text_emotions_cols = list(text_emotions.columns)\n",
    "text_emotions_cols[0], text_emotions_cols[1] = text_emotions_cols[1], text_emotions_cols[0]\n",
    "text_emotions = text_emotions[text_emotions_cols]"
   ]
  },
  {
   "cell_type": "code",
   "execution_count": 14,
   "metadata": {},
   "outputs": [
    {
     "name": "stdout",
     "output_type": "stream",
     "text": [
      "Sentiment ChatGPT\n",
      "                                                text sentiment\n",
      "0  ChatGPT: Optimizing Language Models for Dialog...   neutral\n",
      "1  Try talking with ChatGPT, our new AI system wh...      good\n",
      "2  ChatGPT: Optimizing Language Models for Dialog...   neutral\n",
      "3  THRILLED to share that ChatGPT, our new model ...      good\n",
      "4  As of 2 minutes ago, @OpenAI released their ne...       bad\n",
      "\n",
      "Emotion Class\n",
      "                                                text sentiment\n",
      "0  i seriously hate one subject to death but now ...      fear\n",
      "1                 im so full of life i feel appalled     anger\n",
      "2  i sit here to write i start to dig out my feel...      fear\n",
      "3  ive been really angry with r and i feel like a...       joy\n",
      "4  i feel suspicious if there is no one outside l...      fear\n",
      "\n",
      "Sentiment Mental Health\n",
      "                                                text sentiment\n",
      "0  I know as parent of child with down syndrome t...  negative\n",
      "1  but in my heart I know this is the future prom...   neutral\n",
      "2  I have mylefibrosis which turn to leukemia the...  negative\n",
      "3  from one of my health group subject wayne dyer...   neutral\n",
      "4  gmos now link to leukemia http nsnbc I 2013 07...   neutral\n",
      "\n",
      "Sentiment from Tweets\n",
      "                                                text sentiment\n",
      "0  @Logitech @apple @Google @Microsoft @Dell @Len...   neutral\n",
      "1  @MK_habit_addict @official_stier @MortalKombat...   neutral\n",
      "2  As @CRN celebrates its 40th anniversary, Bob F...  positive\n",
      "3  @dell your customer service is horrible especi...  negative\n",
      "4  @zacokalo @Dell @DellCares @Dell give the man ...   neutral\n",
      "\n",
      "Text Emotions\n",
      "                                                text   sentiment\n",
      "0  @tiffanylue i know  i was listenin to bad habi...       empty\n",
      "1  Layin n bed with a headache  ughhhh...waitin o...     sadness\n",
      "2                Funeral ceremony...gloomy friday...     sadness\n",
      "3               wants to hang out with friends SOON!  enthusiasm\n",
      "4  @dannycastillo We want to trade with someone w...     neutral\n"
     ]
    }
   ],
   "source": [
    "# Load some first line of datasets after rename and switch\n",
    "\n",
    "print(\"Sentiment ChatGPT\")\n",
    "print(sentiment_chatgpt.head())\n",
    "print(\"\\nEmotion Class\")\n",
    "print(emotion_classify.head())\n",
    "print(\"\\nSentiment Mental Health\")\n",
    "print(sentiment_mentalhealth.head())\n",
    "print(\"\\nSentiment from Tweets\")\n",
    "print(sentiment_tweets.head())\n",
    "print(\"\\nText Emotions\")\n",
    "print(text_emotions.head())"
   ]
  },
  {
   "cell_type": "code",
   "execution_count": 15,
   "metadata": {},
   "outputs": [
    {
     "name": "stdout",
     "output_type": "stream",
     "text": [
      "                                                     text  sentiment\n",
      "0       ChatGPT: Optimizing Language Models for Dialog...    neutral\n",
      "1       Try talking with ChatGPT, our new AI system wh...       good\n",
      "2       ChatGPT: Optimizing Language Models for Dialog...    neutral\n",
      "3       THRILLED to share that ChatGPT, our new model ...       good\n",
      "4       As of 2 minutes ago, @OpenAI released their ne...        bad\n",
      "...                                                   ...        ...\n",
      "300588                                   @JohnLloydTaylor    neutral\n",
      "300589                     Happy Mothers Day  All my love       love\n",
      "300590  Happy Mother's Day to all the mommies out ther...       love\n",
      "300591  @niariley WASSUP BEAUTIFUL!!! FOLLOW ME!!  PEE...  happiness\n",
      "300592  @mopedronin bullet train from tokyo    the gf ...       love\n",
      "\n",
      "[300593 rows x 2 columns]\n"
     ]
    }
   ],
   "source": [
    "# Combine all datasets into one dataset\n",
    "combined_dataset = pd.concat([sentiment_chatgpt, emotion_classify,\n",
    "                            sentiment_mentalhealth, sentiment_tweets,\n",
    "                            text_emotions], ignore_index = True)\n",
    "\n",
    "print(combined_dataset)"
   ]
  },
  {
   "cell_type": "code",
   "execution_count": 17,
   "metadata": {},
   "outputs": [
    {
     "name": "stdout",
     "output_type": "stream",
     "text": [
      "sentiment\n",
      "bad              107796\n",
      "neutral           75548\n",
      "good              56011\n",
      "negative          14668\n",
      "worry              8459\n",
      "positive           8116\n",
      "happiness          5209\n",
      "sadness            5165\n",
      "love               3842\n",
      "surprise           2187\n",
      "anger              2110\n",
      "joy                2000\n",
      "fear               1937\n",
      "fun                1776\n",
      "relief             1526\n",
      "hate               1323\n",
      "very negative      1155\n",
      "empty               827\n",
      "enthusiasm          759\n",
      "boredom             179\n",
      "Name: count, dtype: int64\n"
     ]
    }
   ],
   "source": [
    "# Print what sentiments we have in dataset\n",
    "unique_sent = combined_dataset['sentiment'].value_counts()\n",
    "print(unique_sent)"
   ]
  },
  {
   "cell_type": "code",
   "execution_count": 18,
   "metadata": {},
   "outputs": [],
   "source": [
    "# Save combine dataset into new csv file\n",
    "combined_dataset.to_csv('E:\\MSIB_BANGKIT\\CAPSTONE_C241-PR565\\data\\capstone_sentiment_dataset.csv', index = False)"
   ]
  }
 ],
 "metadata": {
  "kernelspec": {
   "display_name": "Python 3",
   "language": "python",
   "name": "python3"
  },
  "language_info": {
   "codemirror_mode": {
    "name": "ipython",
    "version": 3
   },
   "file_extension": ".py",
   "mimetype": "text/x-python",
   "name": "python",
   "nbconvert_exporter": "python",
   "pygments_lexer": "ipython3",
   "version": "3.10.11"
  }
 },
 "nbformat": 4,
 "nbformat_minor": 2
}
